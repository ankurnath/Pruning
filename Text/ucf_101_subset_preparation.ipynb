{
  "cells": [
    {
      "cell_type": "markdown",
      "metadata": {
        "id": "y-i378pzNAgC"
      },
      "source": [
        "This is notebook prepares a subset of the [UCF-101 dataset](https://www.tensorflow.org/datasets/catalog/ucf101) for experimenting with video classification models. It's almost a copy-paste of [this tutorial](https://www.tensorflow.org/tutorials/load_data/video)."
      ]
    },
    {
      "cell_type": "markdown",
      "metadata": {
        "id": "PJzElB1MNAgF"
      },
      "source": [
        "## Initial setup"
      ]
    },
    {
      "cell_type": "code",
      "execution_count": 1,
      "metadata": {
        "colab": {
          "base_uri": "https://localhost:8080/"
        },
        "id": "lIYdn1woOS1n",
        "outputId": "e6a49d3e-28dd-4f7f-b35f-64aa5eb72c64"
      },
      "outputs": [],
      "source": [
        "!pip install remotezip tqdm -q"
      ]
    },
    {
      "cell_type": "code",
      "execution_count": 2,
      "metadata": {
        "id": "H02rdgHNcQza"
      },
      "outputs": [],
      "source": [
        "import tqdm\n",
        "import random\n",
        "import pathlib\n",
        "import collections\n",
        "\n",
        "import os\n",
        "import numpy as np\n",
        "import remotezip as rz\n",
        "\n",
        "random.seed(666)"
      ]
    },
    {
      "cell_type": "markdown",
      "metadata": {
        "id": "RfkK6NZZNAgI"
      },
      "source": [
        "## Utilities\n",
        "\n",
        "All of these are taken from [this tutorial](https://www.tensorflow.org/tutorials/load_data/video)."
      ]
    },
    {
      "cell_type": "code",
      "execution_count": 3,
      "metadata": {
        "id": "uVVz4bfgcWHD"
      },
      "outputs": [],
      "source": [
        "URL = \"https://storage.googleapis.com/thumos14_files/UCF101_videos.zip\""
      ]
    },
    {
      "cell_type": "code",
      "execution_count": 4,
      "metadata": {
        "id": "LT8k_5YIcZB2"
      },
      "outputs": [],
      "source": [
        "def list_files_from_zip_url(zip_url):\n",
        "    \"\"\"List the files in each class of the dataset given a URL with the zip file.\n",
        "\n",
        "    Args:\n",
        "      zip_url: A URL from which the files can be extracted from.\n",
        "\n",
        "    Returns:\n",
        "      List of files in each of the classes.\n",
        "    \"\"\"\n",
        "    files = []\n",
        "    with rz.RemoteZip(zip_url) as zip:\n",
        "        for zip_info in zip.infolist():\n",
        "            files.append(zip_info.filename)\n",
        "    return files"
      ]
    },
    {
      "cell_type": "code",
      "execution_count": 5,
      "metadata": {
        "colab": {
          "base_uri": "https://localhost:8080/"
        },
        "id": "61Wg2paZeFjf",
        "outputId": "1b539463-28ed-47e9-8f2a-3daaf7bd5087"
      },
      "outputs": [
        {
          "data": {
            "text/plain": [
              "['UCF101/v_ApplyEyeMakeup_g01_c01.avi',\n",
              " 'UCF101/v_ApplyEyeMakeup_g01_c02.avi',\n",
              " 'UCF101/v_ApplyEyeMakeup_g01_c03.avi',\n",
              " 'UCF101/v_ApplyEyeMakeup_g01_c04.avi',\n",
              " 'UCF101/v_ApplyEyeMakeup_g01_c05.avi',\n",
              " 'UCF101/v_ApplyEyeMakeup_g01_c06.avi',\n",
              " 'UCF101/v_ApplyEyeMakeup_g02_c01.avi',\n",
              " 'UCF101/v_ApplyEyeMakeup_g02_c02.avi',\n",
              " 'UCF101/v_ApplyEyeMakeup_g02_c03.avi',\n",
              " 'UCF101/v_ApplyEyeMakeup_g02_c04.avi']"
            ]
          },
          "execution_count": 5,
          "metadata": {},
          "output_type": "execute_result"
        }
      ],
      "source": [
        "files = list_files_from_zip_url(URL)\n",
        "files = [f for f in files if f.endswith(\".avi\")]\n",
        "files[:10]"
      ]
    },
    {
      "cell_type": "code",
      "execution_count": 6,
      "metadata": {
        "id": "h0_GnUkbeHq9"
      },
      "outputs": [],
      "source": [
        "def get_class(fname):\n",
        "    \"\"\"Retrieve the name of the class given a filename.\n",
        "\n",
        "    Args:\n",
        "      fname: Name of the file in the UCF101 dataset.\n",
        "\n",
        "    Returns:\n",
        "      Class that the file belongs to.\n",
        "    \"\"\"\n",
        "    return fname.split(\"_\")[-3]"
      ]
    },
    {
      "cell_type": "code",
      "execution_count": 7,
      "metadata": {
        "id": "shg9AQC9fWxZ"
      },
      "outputs": [],
      "source": [
        "def get_group(fname):\n",
        "    \"\"\"Retrieve the name of the scene/group given a filename.\n",
        "\n",
        "    Args:\n",
        "      fname: Name of the file in the UCF101 dataset.\n",
        "\n",
        "    Returns:\n",
        "      Scene that the file belongs to.\n",
        "    \"\"\"\n",
        "    return fname.split(\"_\")[-2]"
      ]
    },
    {
      "cell_type": "code",
      "execution_count": 8,
      "metadata": {
        "id": "srS_5J2Be4oi"
      },
      "outputs": [],
      "source": [
        "def get_files_per_class(files):\n",
        "    \"\"\"Retrieve the files that belong to each class.\n",
        "\n",
        "    Args:\n",
        "      files: List of files in the dataset.\n",
        "\n",
        "    Returns:\n",
        "      Dictionary of class names (key) and files (values).\n",
        "    \"\"\"\n",
        "    files_for_class = collections.defaultdict(list)\n",
        "    for fname in files:\n",
        "        class_name = get_class(fname)\n",
        "        files_for_class[class_name].append(fname)\n",
        "    return files_for_class"
      ]
    },
    {
      "cell_type": "code",
      "execution_count": 9,
      "metadata": {
        "id": "Ra05EG0De8IW"
      },
      "outputs": [],
      "source": [
        "files_for_class = get_files_per_class(files)\n",
        "classes = list(files_for_class.keys())"
      ]
    },
    {
      "cell_type": "code",
      "execution_count": 10,
      "metadata": {
        "colab": {
          "base_uri": "https://localhost:8080/"
        },
        "id": "ErUErN0WgRmi",
        "outputId": "b948370c-e081-428e-dd47-a1bdc1a6e95c"
      },
      "outputs": [
        {
          "data": {
            "text/plain": [
              "['ApplyEyeMakeup',\n",
              " 'ApplyLipstick',\n",
              " 'Archery',\n",
              " 'BabyCrawling',\n",
              " 'BalanceBeam',\n",
              " 'BandMarching',\n",
              " 'BaseballPitch',\n",
              " 'BasketballDunk',\n",
              " 'Basketball',\n",
              " 'BenchPress',\n",
              " 'Biking',\n",
              " 'Billiards',\n",
              " 'BlowDryHair',\n",
              " 'BlowingCandles',\n",
              " 'BodyWeightSquats',\n",
              " 'Bowling',\n",
              " 'BoxingPunchingBag',\n",
              " 'BoxingSpeedBag',\n",
              " 'BreastStroke',\n",
              " 'BrushingTeeth',\n",
              " 'CleanAndJerk',\n",
              " 'CliffDiving',\n",
              " 'CricketBowling',\n",
              " 'CricketShot',\n",
              " 'CuttingInKitchen',\n",
              " 'Diving',\n",
              " 'Drumming',\n",
              " 'Fencing',\n",
              " 'FieldHockeyPenalty',\n",
              " 'FloorGymnastics',\n",
              " 'FrisbeeCatch',\n",
              " 'FrontCrawl',\n",
              " 'GolfSwing',\n",
              " 'Haircut',\n",
              " 'Hammering',\n",
              " 'HammerThrow',\n",
              " 'HandstandPushups',\n",
              " 'HandstandWalking',\n",
              " 'HeadMassage',\n",
              " 'HighJump',\n",
              " 'HorseRace',\n",
              " 'HorseRiding',\n",
              " 'HulaHoop',\n",
              " 'IceDancing',\n",
              " 'JavelinThrow',\n",
              " 'JugglingBalls',\n",
              " 'JumpingJack',\n",
              " 'JumpRope',\n",
              " 'Kayaking',\n",
              " 'Knitting',\n",
              " 'LongJump',\n",
              " 'Lunges',\n",
              " 'MilitaryParade',\n",
              " 'Mixing',\n",
              " 'MoppingFloor',\n",
              " 'Nunchucks',\n",
              " 'ParallelBars',\n",
              " 'PizzaTossing',\n",
              " 'PlayingCello',\n",
              " 'PlayingDaf',\n",
              " 'PlayingDhol',\n",
              " 'PlayingFlute',\n",
              " 'PlayingGuitar',\n",
              " 'PlayingPiano',\n",
              " 'PlayingSitar',\n",
              " 'PlayingTabla',\n",
              " 'PlayingViolin',\n",
              " 'PoleVault',\n",
              " 'PommelHorse',\n",
              " 'PullUps',\n",
              " 'Punch',\n",
              " 'PushUps',\n",
              " 'Rafting',\n",
              " 'RockClimbingIndoor',\n",
              " 'RopeClimbing',\n",
              " 'Rowing',\n",
              " 'SalsaSpin',\n",
              " 'ShavingBeard',\n",
              " 'Shotput',\n",
              " 'SkateBoarding',\n",
              " 'Skiing',\n",
              " 'Skijet',\n",
              " 'SkyDiving',\n",
              " 'SoccerJuggling',\n",
              " 'SoccerPenalty',\n",
              " 'StillRings',\n",
              " 'SumoWrestling',\n",
              " 'Surfing',\n",
              " 'Swing',\n",
              " 'TableTennisShot',\n",
              " 'TaiChi',\n",
              " 'TennisSwing',\n",
              " 'ThrowDiscus',\n",
              " 'TrampolineJumping',\n",
              " 'Typing',\n",
              " 'UnevenBars',\n",
              " 'VolleyballSpiking',\n",
              " 'WalkingWithDog',\n",
              " 'WallPushups',\n",
              " 'WritingOnBoard',\n",
              " 'YoYo']"
            ]
          },
          "execution_count": 10,
          "metadata": {},
          "output_type": "execute_result"
        }
      ],
      "source": [
        "classes"
      ]
    },
    {
      "cell_type": "code",
      "execution_count": 12,
      "metadata": {
        "id": "HRJPMT3KhpN9"
      },
      "outputs": [],
      "source": [
        "def select_subset_of_classes(files_for_class, classes, files_per_class):\n",
        "    \"\"\"Create a dictionary with the class name and a subset of the files in that class.\n",
        "\n",
        "    Args:\n",
        "      files_for_class: Dictionary of class names (key) and files (values).\n",
        "      classes: List of classes.\n",
        "      files_per_class: Number of files per class of interest.\n",
        "\n",
        "    Returns:\n",
        "      Dictionary with class as key and list of specified number of video files in that class.\n",
        "    \"\"\"\n",
        "    files_subset = dict()\n",
        "\n",
        "    for class_name in classes:\n",
        "        class_files = files_for_class[class_name]\n",
        "        files_subset[class_name] = class_files[:files_per_class]\n",
        "\n",
        "    return files_subset"
      ]
    },
    {
      "cell_type": "code",
      "execution_count": 13,
      "metadata": {
        "colab": {
          "base_uri": "https://localhost:8080/"
        },
        "id": "pEAMMoIDhpsy",
        "outputId": "13f87fdd-6275-4f16-f5e5-b06cadc1c2fb"
      },
      "outputs": [
        {
          "data": {
            "text/plain": [
              "['ApplyEyeMakeup',\n",
              " 'ApplyLipstick',\n",
              " 'Archery',\n",
              " 'BabyCrawling',\n",
              " 'BalanceBeam',\n",
              " 'BandMarching',\n",
              " 'BaseballPitch',\n",
              " 'BasketballDunk',\n",
              " 'Basketball',\n",
              " 'BenchPress',\n",
              " 'Biking',\n",
              " 'Billiards',\n",
              " 'BlowDryHair',\n",
              " 'BlowingCandles',\n",
              " 'BodyWeightSquats',\n",
              " 'Bowling',\n",
              " 'BoxingPunchingBag',\n",
              " 'BoxingSpeedBag',\n",
              " 'BreastStroke',\n",
              " 'BrushingTeeth',\n",
              " 'CleanAndJerk',\n",
              " 'CliffDiving',\n",
              " 'CricketBowling',\n",
              " 'CricketShot',\n",
              " 'CuttingInKitchen',\n",
              " 'Diving',\n",
              " 'Drumming',\n",
              " 'Fencing',\n",
              " 'FieldHockeyPenalty',\n",
              " 'FloorGymnastics',\n",
              " 'FrisbeeCatch',\n",
              " 'FrontCrawl',\n",
              " 'GolfSwing',\n",
              " 'Haircut',\n",
              " 'Hammering',\n",
              " 'HammerThrow',\n",
              " 'HandstandPushups',\n",
              " 'HandstandWalking',\n",
              " 'HeadMassage',\n",
              " 'HighJump',\n",
              " 'HorseRace',\n",
              " 'HorseRiding',\n",
              " 'HulaHoop',\n",
              " 'IceDancing',\n",
              " 'JavelinThrow',\n",
              " 'JugglingBalls',\n",
              " 'JumpingJack',\n",
              " 'JumpRope',\n",
              " 'Kayaking',\n",
              " 'Knitting',\n",
              " 'LongJump',\n",
              " 'Lunges',\n",
              " 'MilitaryParade',\n",
              " 'Mixing',\n",
              " 'MoppingFloor',\n",
              " 'Nunchucks',\n",
              " 'ParallelBars',\n",
              " 'PizzaTossing',\n",
              " 'PlayingCello',\n",
              " 'PlayingDaf',\n",
              " 'PlayingDhol',\n",
              " 'PlayingFlute',\n",
              " 'PlayingGuitar',\n",
              " 'PlayingPiano',\n",
              " 'PlayingSitar',\n",
              " 'PlayingTabla',\n",
              " 'PlayingViolin',\n",
              " 'PoleVault',\n",
              " 'PommelHorse',\n",
              " 'PullUps',\n",
              " 'Punch',\n",
              " 'PushUps',\n",
              " 'Rafting',\n",
              " 'RockClimbingIndoor',\n",
              " 'RopeClimbing',\n",
              " 'Rowing',\n",
              " 'SalsaSpin',\n",
              " 'ShavingBeard',\n",
              " 'Shotput',\n",
              " 'SkateBoarding',\n",
              " 'Skiing',\n",
              " 'Skijet',\n",
              " 'SkyDiving',\n",
              " 'SoccerJuggling',\n",
              " 'SoccerPenalty',\n",
              " 'StillRings',\n",
              " 'SumoWrestling',\n",
              " 'Surfing',\n",
              " 'Swing',\n",
              " 'TableTennisShot',\n",
              " 'TaiChi',\n",
              " 'TennisSwing',\n",
              " 'ThrowDiscus',\n",
              " 'TrampolineJumping',\n",
              " 'Typing',\n",
              " 'UnevenBars',\n",
              " 'VolleyballSpiking',\n",
              " 'WalkingWithDog',\n",
              " 'WallPushups',\n",
              " 'WritingOnBoard',\n",
              " 'YoYo']"
            ]
          },
          "execution_count": 13,
          "metadata": {},
          "output_type": "execute_result"
        }
      ],
      "source": [
        "NUM_CLASSES = len(classes)\n",
        "FILES_PER_CLASS = 100\n",
        "\n",
        "files_subset = select_subset_of_classes(\n",
        "    files_for_class, classes[:NUM_CLASSES], FILES_PER_CLASS\n",
        ")\n",
        "list(files_subset.keys())"
      ]
    },
    {
      "cell_type": "code",
      "execution_count": 14,
      "metadata": {
        "id": "Av8dXYCth5Kx"
      },
      "outputs": [],
      "source": [
        "def download_from_zip(zip_url, to_dir, file_names):\n",
        "    \"\"\"Download the contents of the zip file from the zip URL.\n",
        "\n",
        "    Args:\n",
        "      zip_url: A URL with a zip file containing data.\n",
        "      to_dir: A directory to download data to.\n",
        "      file_names: Names of files to download.\n",
        "    \"\"\"\n",
        "    with rz.RemoteZip(zip_url) as zip:\n",
        "        for fn in tqdm.tqdm(file_names):\n",
        "            class_name = get_class(fn)\n",
        "            zip.extract(fn, str(to_dir / class_name))\n",
        "            unzipped_file = to_dir / class_name / fn\n",
        "\n",
        "            fn = pathlib.Path(fn).parts[-1]\n",
        "            output_file = to_dir / class_name / fn\n",
        "            unzipped_file.rename(output_file)"
      ]
    },
    {
      "cell_type": "markdown",
      "metadata": {
        "id": "tkgwijl5NAgO"
      },
      "source": [
        "The `split_class_lists()` differs from the above-mentioned tutorial. Read the comments to know more. [This comment](https://github.com/huggingface/notebooks/pull/261#pullrequestreview-1174969133) explains why this had to be done."
      ]
    },
    {
      "cell_type": "code",
      "execution_count": 17,
      "metadata": {
        "id": "o435SvPoh7oy"
      },
      "outputs": [],
      "source": [
        "def split_class_lists(files_for_class, count):\n",
        "    \"\"\"Returns the list of files belonging to a subset of data as well as the remainder of\n",
        "    files that need to be downloaded.\n",
        "\n",
        "    Args:\n",
        "      files_for_class: Files belonging to a particular class of data.\n",
        "      count: Number of files to download.\n",
        "\n",
        "    Returns:\n",
        "      Files belonging to the subset of data and dictionary of the remainder of files\n",
        "      that need to be downloaded.\n",
        "    \"\"\"\n",
        "    split_files = []\n",
        "    remainder = {}\n",
        "    for cls in files_for_class:\n",
        "        split_files.extend(files_for_class[cls][:count])\n",
        "        remainder[cls] = files_for_class[cls][count:]\n",
        "\n",
        "    # Return the remaining files for a particular class in the following manner.\n",
        "    # 1. For the selected video files for a given class, we derive all the groups / scenes.\n",
        "    ##\n",
        "    # 2. Now, for each remaining video file in the same class,\n",
        "    # we check if its group is already present in the set we derived in 1.\n",
        "    ##\n",
        "    # 3. If the above condition is false, then only we consider the respective\n",
        "    # video file.\n",
        "\n",
        "    split_files_cls_wise = get_files_per_class(split_files)\n",
        "    new_files_for_class = collections.defaultdict(list)\n",
        "    for cls in remainder:\n",
        "        remainder_files = remainder[cls]\n",
        "        selected_files = split_files_cls_wise[cls]\n",
        "        unique_groups = {get_group(filename) for filename in selected_files}\n",
        "        for filename in remainder_files:\n",
        "            if not get_group(filename) in unique_groups:\n",
        "                new_files_for_class[cls].append(filename)\n",
        "    return split_files, new_files_for_class"
      ]
    },
    {
      "cell_type": "code",
      "execution_count": 18,
      "metadata": {
        "id": "kDRePiqYkeC8"
      },
      "outputs": [],
      "source": [
        "def download_ufc_101_subset(zip_url, num_classes, splits, download_dir):\n",
        "    \"\"\"Download a subset of the UFC101 dataset and split them into various parts, such as\n",
        "    training, validation, and test.\n",
        "\n",
        "    Args:\n",
        "      zip_url: A URL with a ZIP file with the data.\n",
        "      num_classes: Number of labels.\n",
        "      splits: Dictionary specifying the training, validation, test, etc. (key) division of data\n",
        "              (value is number of files per split).\n",
        "      download_dir: Directory to download data to.\n",
        "\n",
        "    Return:\n",
        "      Mapping of the directories containing the subsections of data.\n",
        "    \"\"\"\n",
        "    files = list_files_from_zip_url(zip_url)\n",
        "    for f in files:\n",
        "        path = os.path.normpath(f)\n",
        "        tokens = path.split(os.sep)\n",
        "        if len(tokens) <= 2:\n",
        "            # Remove that item from the list if it does not have a filename\n",
        "            files.remove(f)\n",
        "\n",
        "    files_for_class = get_files_per_class(files)\n",
        "\n",
        "    classes = list(files_for_class.keys())[:num_classes]\n",
        "\n",
        "    for cls in classes:\n",
        "        random.shuffle(files_for_class[cls])\n",
        "\n",
        "    # Only use the number of classes you want in the dictionary\n",
        "    files_for_class = {x: files_for_class[x] for x in classes}\n",
        "\n",
        "    dirs = {}\n",
        "    for split_name, split_count in splits.items():\n",
        "        print(split_name, \":\")\n",
        "        split_dir = download_dir / split_name\n",
        "        split_files, files_for_class = split_class_lists(files_for_class, split_count)\n",
        "        download_from_zip(zip_url, split_dir, split_files)\n",
        "        dirs[split_name] = split_dir\n",
        "\n",
        "    return dirs"
      ]
    },
    {
      "cell_type": "markdown",
      "metadata": {
        "id": "REjKYSdWQIJG"
      },
      "source": [
        "## Prepare the subset"
      ]
    },
    {
      "cell_type": "code",
      "execution_count": 19,
      "metadata": {
        "colab": {
          "base_uri": "https://localhost:8080/"
        },
        "id": "nAMBSUrmqeHQ",
        "outputId": "9e18d4d2-50bb-4fdf-8271-cc141bee1aa4"
      },
      "outputs": [
        {
          "name": "stdout",
          "output_type": "stream",
          "text": [
            "train :\n"
          ]
        },
        {
          "name": "stderr",
          "output_type": "stream",
          "text": [
            "100%|██████████| 6660/6660 [19:45<00:00,  5.62it/s]\n"
          ]
        },
        {
          "name": "stdout",
          "output_type": "stream",
          "text": [
            "val :\n"
          ]
        },
        {
          "name": "stderr",
          "output_type": "stream",
          "text": [
            "0it [00:00, ?it/s]\n"
          ]
        }
      ],
      "source": [
        "download_dir = \"./UCF101_subset/\"\n",
        "download_dir = pathlib.Path(download_dir)\n",
        "subset_paths = download_ufc_101_subset(\n",
        "    URL,\n",
        "    num_classes=NUM_CLASSES,\n",
        "    splits={\"train\": 95, \"val\":5},\n",
        "    download_dir=download_dir,\n",
        ")"
      ]
    },
    {
      "cell_type": "markdown",
      "metadata": {
        "id": "ZsLf-x-FQJs6"
      },
      "source": [
        "## Verification"
      ]
    },
    {
      "cell_type": "code",
      "execution_count": null,
      "metadata": {
        "colab": {
          "base_uri": "https://localhost:8080/"
        },
        "id": "98K3gESJ7xoB",
        "outputId": "bad46429-ffeb-431f-9602-bc92b32f009b"
      },
      "outputs": [
        {
          "name": "stdout",
          "output_type": "stream",
          "text": [
            "Class: ApplyEyeMakeup, Intersection found with val: set()\n",
            "Class: ApplyEyeMakeup, Intersection found with test: set()\n",
            "\n",
            "\n",
            "Class: ApplyLipstick, Intersection found with val: set()\n",
            "Class: ApplyLipstick, Intersection found with test: set()\n",
            "\n",
            "\n",
            "Class: Archery, Intersection found with val: set()\n",
            "Class: Archery, Intersection found with test: set()\n",
            "\n",
            "\n",
            "Class: BabyCrawling, Intersection found with val: set()\n",
            "Class: BabyCrawling, Intersection found with test: set()\n",
            "\n",
            "\n",
            "Class: BalanceBeam, Intersection found with val: set()\n",
            "Class: BalanceBeam, Intersection found with test: set()\n",
            "\n",
            "\n",
            "Class: BandMarching, Intersection found with val: set()\n",
            "Class: BandMarching, Intersection found with test: set()\n",
            "\n",
            "\n",
            "Class: BaseballPitch, Intersection found with val: set()\n",
            "Class: BaseballPitch, Intersection found with test: set()\n",
            "\n",
            "\n",
            "Class: BasketballDunk, Intersection found with val: set()\n",
            "Class: BasketballDunk, Intersection found with test: set()\n",
            "\n",
            "\n",
            "Class: Basketball, Intersection found with val: set()\n",
            "Class: Basketball, Intersection found with test: set()\n",
            "\n",
            "\n",
            "Class: BenchPress, Intersection found with val: set()\n",
            "Class: BenchPress, Intersection found with test: set()\n",
            "\n",
            "\n"
          ]
        }
      ],
      "source": [
        "for cls in classes[:NUM_CLASSES]:\n",
        "    video_train_cls = list(download_dir.glob(f\"train/{cls}/*.avi\"))\n",
        "    video_test_cls = list(download_dir.glob(f\"test/{cls}/*.avi\"))\n",
        "    video_val_cls = list(download_dir.glob(f\"val/{cls}/*.avi\"))\n",
        "\n",
        "    unique_groups_train = {get_group(str(x)) for x in video_train_cls}\n",
        "    unique_groups_test = {get_group(str(x)) for x in video_test_cls}\n",
        "    unique_groups_val = {get_group(str(x)) for x in video_val_cls}\n",
        "\n",
        "    print(\n",
        "        f\"Class: {cls}, Intersection found with val: {unique_groups_train.intersection(unique_groups_val)}\"\n",
        "    )\n",
        "    print(\n",
        "        f\"Class: {cls}, Intersection found with test: {unique_groups_train.intersection(unique_groups_test)}\"\n",
        "    )\n",
        "    print(\"\\n\")"
      ]
    },
    {
      "cell_type": "code",
      "execution_count": null,
      "metadata": {
        "colab": {
          "base_uri": "https://localhost:8080/"
        },
        "id": "EzBSpk-c-U36",
        "outputId": "f1dca5e8-1d5e-4752-bb09-358ee1710375"
      },
      "outputs": [
        {
          "name": "stdout",
          "output_type": "stream",
          "text": [
            "10\n",
            "10\n",
            "10\n"
          ]
        }
      ],
      "source": [
        "for split in [\"train\", \"test\", \"val\"]:\n",
        "    print(len({get_class(str(x)) for x in list(download_dir.glob(f\"{split}/*/*.avi\"))}))"
      ]
    },
    {
      "cell_type": "code",
      "execution_count": null,
      "metadata": {
        "colab": {
          "base_uri": "https://localhost:8080/"
        },
        "id": "67kj7jdg8Lj4",
        "outputId": "3e419f43-740d-4548-cffd-4a374f7acb6d"
      },
      "outputs": [
        {
          "name": "stdout",
          "output_type": "stream",
          "text": [
            "Total videos: 405\n"
          ]
        }
      ],
      "source": [
        "video_count_train = len(list(download_dir.glob(\"train/*/*.avi\")))\n",
        "video_count_val = len(list(download_dir.glob(\"val/*/*.avi\")))\n",
        "video_count_test = len(list(download_dir.glob(\"test/*/*.avi\")))\n",
        "video_total = video_count_train + video_count_val + video_count_test\n",
        "print(f\"Total videos: {video_total}\")"
      ]
    },
    {
      "cell_type": "markdown",
      "metadata": {
        "id": "awSXubAOQLV0"
      },
      "source": [
        "## Misc"
      ]
    },
    {
      "cell_type": "code",
      "execution_count": null,
      "metadata": {
        "id": "mOsxcYDpCh92"
      },
      "outputs": [],
      "source": [
        "!tar cf UCF101_subset.tar.gz UCF101_subset"
      ]
    },
    {
      "cell_type": "code",
      "execution_count": null,
      "metadata": {
        "id": "9OnDCg8F3Ncj"
      },
      "outputs": [],
      "source": [
        "!rm -rf \"./UCF101_subset/\""
      ]
    },
    {
      "cell_type": "code",
      "execution_count": null,
      "metadata": {
        "colab": {
          "base_uri": "https://localhost:8080/"
        },
        "id": "rj5-CWcOPxzK",
        "outputId": "584f7a4d-7930-428a-cccc-40f01d6209e1"
      },
      "outputs": [
        {
          "name": "stdout",
          "output_type": "stream",
          "text": [
            "Mounted at /content/drive\n"
          ]
        }
      ],
      "source": [
        "from google.colab import drive\n",
        "drive.mount('/content/drive')"
      ]
    },
    {
      "cell_type": "code",
      "execution_count": null,
      "metadata": {
        "id": "ZcCOXHMTQCH4"
      },
      "outputs": [],
      "source": [
        "!cp UCF101_subset.tar.gz /content/drive/MyDrive"
      ]
    }
  ],
  "metadata": {
    "colab": {
      "provenance": []
    },
    "kernelspec": {
      "display_name": "Python 3 (ipykernel)",
      "language": "python",
      "name": "python3"
    },
    "language_info": {
      "codemirror_mode": {
        "name": "ipython",
        "version": 3
      },
      "file_extension": ".py",
      "mimetype": "text/x-python",
      "name": "python",
      "nbconvert_exporter": "python",
      "pygments_lexer": "ipython3",
      "version": "3.10.13"
    }
  },
  "nbformat": 4,
  "nbformat_minor": 0
}
