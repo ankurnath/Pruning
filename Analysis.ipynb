{
 "cells": [
  {
   "cell_type": "code",
   "execution_count": 13,
   "metadata": {},
   "outputs": [],
   "source": [
    "import os\n",
    "from collections  import defaultdict\n",
    "import pickle\n",
    "import pandas as pd\n",
    "def load_from_pickle(file_path):\n",
    "    \"\"\"\n",
    "    Load data from a pickle file.\n",
    "\n",
    "    Parameters:\n",
    "    - file_path: The path to the pickle file.\n",
    "\n",
    "    Returns:\n",
    "    - loaded_data: The loaded data.\n",
    "    \"\"\"\n",
    "    with open(file_path, 'rb') as file:\n",
    "        loaded_data = pickle.load(file)\n",
    "    # print(f'Data has been loaded from {file_path}')\n",
    "    return loaded_data"
   ]
  },
  {
   "cell_type": "code",
   "execution_count": 14,
   "metadata": {},
   "outputs": [
    {
     "name": "stdout",
     "output_type": "stream",
     "text": [
      "Slashdot\n",
      "********************\n",
      "     algorithm   Size  Drop  Queries\n",
      "0  Quickfilter  99.25   0.0    99.31\n",
      "--------------------\n",
      "YouTube\n",
      "********************\n",
      "     algorithm   Size  Drop  Queries\n",
      "0  Quickfilter  99.95   0.0    99.95\n",
      "--------------------\n",
      "web-Google\n",
      "********************\n",
      "     algorithm   Size  Drop  Queries\n",
      "0  Quickfilter  99.96  0.01    99.97\n",
      "--------------------\n",
      "Skitter\n",
      "********************\n",
      "     algorithm   Size  Drop  Queries\n",
      "0  Quickfilter  99.97  0.15    99.97\n",
      "--------------------\n",
      "DBLP\n",
      "********************\n",
      "     algorithm   Size  Drop  Queries\n",
      "0  Quickfilter  99.57  0.61    99.59\n",
      "1           SS  99.63  0.08    99.65\n",
      "--------------------\n",
      "Facebook\n",
      "********************\n",
      "     algorithm   Size  Drop  Queries\n",
      "0  Quickfilter  99.53  0.00    99.65\n",
      "1           SS  90.27  1.81    90.38\n",
      "--------------------\n",
      "Twitter\n",
      "********************\n",
      "     algorithm   Size  Drop  Queries\n",
      "0  Quickfilter  99.13  0.92    99.19\n",
      "--------------------\n",
      "Wiki\n",
      "********************\n",
      "     algorithm   Size  Drop  Queries\n",
      "0  Quickfilter  94.25  0.09    94.91\n",
      "1           SS  93.46  3.70    94.12\n",
      "--------------------\n"
     ]
    }
   ],
   "source": [
    "for problem in [\n",
    "                'MaxCover',\n",
    "              ]:\n",
    "    root_folder=os.path.join(problem,'data')\n",
    "    # datasets=['Facebook','DBLP','Skitter','YouTube']\n",
    "    \n",
    "    datasets=os.listdir(root_folder)\n",
    "    # print(datasets)\n",
    "\n",
    "    for dataset in datasets:\n",
    "        print(dataset)\n",
    "\n",
    "        print('*'*20)\n",
    "        dataset_path = os.path.join(root_folder,dataset)\n",
    "        algorthims = os.listdir(dataset_path)\n",
    "\n",
    "        df ={'algorithm':[],'Size':[],'Drop':[],'Queries':[]}\n",
    "        for algorthim in ['Quickfilter','SS','GCOMB','LeNSE','CombHelperTeacher','CombHelperStudent','GNNPruner']:\n",
    "          try:\n",
    "            df_ = load_from_pickle(os.path.join(dataset_path,algorthim))\n",
    "\n",
    "            # columns =['Ground set(Pruned)','Ratio(%)','Queries(%)']\n",
    "            df['algorithm'].append(algorthim)\n",
    "            df['Size'].append(100-df_['Pruned Ground set(%)'].iloc[0])\n",
    "            df['Drop'].append(100-df_['Ratio(%)'].iloc[0])\n",
    "            df['Queries'].append(100-df_['Queries(%)'].iloc[0])\n",
    "          except:\n",
    "             pass\n",
    "        # print(df)\n",
    "        df = pd.DataFrame(df)\n",
    "        print(df)\n",
    "        print('-'*20)\n"
   ]
  },
  {
   "cell_type": "code",
   "execution_count": 4,
   "metadata": {},
   "outputs": [
    {
     "ename": "NameError",
     "evalue": "name 'dfs' is not defined",
     "output_type": "error",
     "traceback": [
      "\u001b[0;31m---------------------------------------------------------------------------\u001b[0m",
      "\u001b[0;31mNameError\u001b[0m                                 Traceback (most recent call last)",
      "Cell \u001b[0;32mIn[4], line 4\u001b[0m\n\u001b[1;32m      1\u001b[0m \u001b[38;5;66;03m# dfs['Facebook']\u001b[39;00m\n\u001b[0;32m----> 4\u001b[0m \u001b[38;5;28;01mfor\u001b[39;00m dataset \u001b[38;5;129;01min\u001b[39;00m \u001b[43mdfs\u001b[49m:\n\u001b[1;32m      5\u001b[0m     \u001b[38;5;28mprint\u001b[39m(dataset)\n\u001b[1;32m      6\u001b[0m     new_df\u001b[38;5;241m=\u001b[39m{}\n",
      "\u001b[0;31mNameError\u001b[0m: name 'dfs' is not defined"
     ]
    }
   ],
   "source": []
  },
  {
   "cell_type": "code",
   "execution_count": null,
   "metadata": {},
   "outputs": [],
   "source": []
  },
  {
   "cell_type": "code",
   "execution_count": null,
   "metadata": {},
   "outputs": [],
   "source": []
  }
 ],
 "metadata": {
  "kernelspec": {
   "display_name": "benchenv",
   "language": "python",
   "name": "python3"
  },
  "language_info": {
   "codemirror_mode": {
    "name": "ipython",
    "version": 3
   },
   "file_extension": ".py",
   "mimetype": "text/x-python",
   "name": "python",
   "nbconvert_exporter": "python",
   "pygments_lexer": "ipython3",
   "version": "3.10.12"
  }
 },
 "nbformat": 4,
 "nbformat_minor": 2
}
